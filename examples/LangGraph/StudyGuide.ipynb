{
 "cells": [
  {
   "cell_type": "markdown",
   "metadata": {},
   "source": [
    "# Langgraph with Curestry Integration\n",
    " This Jupyter notebook demonstrates the integration of Curestry, a powerful tracing and monitoring tool, with Langgraph, a graph-based approach to managing language models with an agent-based system to enhance the automation and decision-making capabilities of your application. This integration allows for comprehensive analysis and debugging of AI-powered systems."
   ]
  },
  {
   "cell_type": "markdown",
   "metadata": {},
   "source": [
    " # Setup and Imports\n",
    "First, let's import the necessary libraries and set up our environment."
   ]
  },
  {
   "cell_type": "code",
   "execution_count": null,
   "metadata": {},
   "outputs": [],
   "source": [
    "%%capture --no-stderr\n",
    "%pip install -U langchain langchain_openai langsmith pandas langchain_experimental matplotlib langgraph langchain_core"
   ]
  },
  {
   "cell_type": "code",
   "execution_count": null,
   "metadata": {},
   "outputs": [],
   "source": [
    "\n",
    "import os\n",
    "import uuid\n",
    "from dotenv import load_dotenv\n",
    "from typing import List, Literal, Annotated\n",
    "from typing_extensions import TypedDict\n",
    "import openai\n",
    "\n",
    "from langchain_core.messages import (\n",
    "    SystemMessage, \n",
    "    HumanMessage, \n",
    "    AIMessage, \n",
    "    ToolMessage\n",
    ")\n",
    "from langchain_openai import ChatOpenAI\n",
    "from pydantic import BaseModel\n",
    "\n",
    "from langgraph.graph import StateGraph, START, END\n",
    "from langgraph.checkpoint.memory import MemorySaver\n",
    "from langgraph.graph.message import add_messages\n",
    "\n",
    "\n",
    "# Load environment variables from .env file\n",
    "load_dotenv()\n",
    "\n",
    "# Initialize OpenAI API using environment variables\n",
    "openai.api_key = os.getenv(\"OPENAI_API_KEY\")\n"
   ]
  },
  {
   "cell_type": "markdown",
   "metadata": {},
   "source": [
    "\n",
    " # Initialize Curestry Session and Tracer\n",
    " Now, let's set up our Curestry session and tracer.\n",
    "\n"
   ]
  },
  {
   "cell_type": "code",
   "execution_count": null,
   "metadata": {},
   "outputs": [],
   "source": [
    "from curestry import Curestry, Tracer, Execution\n",
    "\n",
    "\n",
    "# Initialize Curestry session\n",
    "neo_session = Curestry(session_name=\"recipe_builder_assistant\")\n",
    "try:\n",
    "    neo_session.create_project(project_name=\"Study_Guide\")\n",
    "except:\n",
    "    neo_session.connect_project(project_name=\"Study_Guide\")\n",
    "\n",
    "# Create tracer\n",
    "tracer = Tracer(session=neo_session)\n",
    "tracer.start()"
   ]
  },
  {
   "cell_type": "markdown",
   "metadata": {},
   "source": [
    "\n",
    " # Define Agents and Tools\n",
    "Now, let's create our AI tools using langgraph."
   ]
  },
  {
   "cell_type": "code",
   "execution_count": null,
   "metadata": {},
   "outputs": [],
   "source": [
    "# Define Agents and Tools\n",
    "\n",
    "@tracer.trace_agent(name=\"StudyPlan\")\n",
    "class StudyPlan(BaseModel):\n",
    "    \"\"\"Study plan for data science topics.\"\"\"\n",
    "    topic: str\n",
    "    duration: str\n",
    "    key_concepts: List[str]\n",
    "\n",
    "@tracer.trace_agent(name=\"StudyPlannerAgent\")\n",
    "class StudyPlannerAgent:\n",
    "    def __init__(self):\n",
    "        self.template = \"\"\"You are a helpful data science study planner. Your job is to create structured study plans for various data science topics.\n",
    "\n",
    "Given a data science topic:\n",
    "1. Break down the topic into 3-5 key concepts or sub-topics\n",
    "2. Suggest a realistic time allocation for each sub-topic\n",
    "3. Recommend a total study duration\"\"\"\n",
    "\n",
    "        self.llm = ChatOpenAI(temperature=0.7)\n",
    "        self.llm_with_tool = self.llm.bind_tools([StudyPlan])\n",
    "\n",
    "    @tracer.trace_tool(name=\"study_plan_chain\")\n",
    "    def study_plan_chain(self, state):\n",
    "        messages = [SystemMessage(content=self.template)] + state[\"messages\"]\n",
    "        response = self.llm_with_tool.invoke(messages)\n",
    "        return {\"messages\": [response]}\n"
   ]
  },
  {
   "cell_type": "code",
   "execution_count": null,
   "metadata": {},
   "outputs": [],
   "source": [
    "@tracer.trace_agent(name=\"ConceptExplainerAgent\")\n",
    "class ConceptExplainerAgent:\n",
    "    def __init__(self):\n",
    "        self.template = \"\"\"You are a data science concept explainer. Your job is to provide clear explanations of data science concepts and theories.\n",
    "\n",
    "Given a data science concept:\n",
    "1. Provide a concise definition\n",
    "2. Explain the concept's importance in data science\n",
    "3. Give a practical example or use case\"\"\"\n",
    "\n",
    "        self.llm = ChatOpenAI(temperature=0.3)\n",
    "\n",
    "    @tracer.trace_tool(name=\"concept_explanation_chain\")\n",
    "    def concept_explanation_chain(self, state):\n",
    "        messages = [SystemMessage(content=self.template)] + state[\"messages\"]\n",
    "        response = self.llm.invoke(messages)\n",
    "        return {\"messages\": [response]}\n",
    "\n"
   ]
  },
  {
   "cell_type": "code",
   "execution_count": null,
   "metadata": {},
   "outputs": [],
   "source": [
    "@tracer.trace_agent(name=\"PracticalExerciseGenerator\")\n",
    "class PracticalExerciseGenerator:\n",
    "    def __init__(self):\n",
    "        self.template = \"\"\"You are a practical exercise generator for data science topics. Your job is to create hands-on coding exercises or data analysis tasks.\n",
    "\n",
    "Given a data science concept or topic:\n",
    "1. Create a practical exercise that reinforces the concept\n",
    "2. Provide a clear problem statement\n",
    "3. Offer hints or tips for approaching the problem\"\"\"\n",
    "\n",
    "        self.llm = ChatOpenAI(temperature=0.7)\n",
    "\n",
    "    @tracer.trace_tool(name=\"generate_exercise_chain\")\n",
    "    def generate_exercise_chain(self, state):\n",
    "        messages = [SystemMessage(content=self.template)] + state[\"messages\"]\n",
    "        response = self.llm.invoke(messages)\n",
    "        return {\"messages\": [response]}"
   ]
  },
  {
   "cell_type": "code",
   "execution_count": null,
   "metadata": {},
   "outputs": [],
   "source": [
    "@tracer.trace_agent(name=\"ResourceRecommenderAgent\")\n",
    "class ResourceRecommenderAgent:\n",
    "    def __init__(self):\n",
    "        self.template = \"\"\"You are a resource recommender for data science topics. Your job is to suggest relevant learning materials.\n",
    "\n",
    "Given a data science topic or concept:\n",
    "1. Recommend 2-3 books (with authors) relevant to the topic\n",
    "2. Suggest 1-2 online courses or MOOCs\n",
    "3. Provide links to 2-3 high-quality tutorials or articles\"\"\"\n",
    "\n",
    "        self.llm = ChatOpenAI(temperature=0.5)\n",
    "\n",
    "    @tracer.trace_tool(name=\"recommend_resources_chain\")\n",
    "    def recommend_resources_chain(self, state):\n",
    "        messages = [SystemMessage(content=self.template)] + state[\"messages\"]\n",
    "        response = self.llm.invoke(messages)\n",
    "        return {\"messages\": [response]}"
   ]
  },
  {
   "cell_type": "markdown",
   "metadata": {},
   "source": [
    "# Managing state graphs, saving memory, handling messages, and typing annotations."
   ]
  },
  {
   "cell_type": "code",
   "execution_count": null,
   "metadata": {},
   "outputs": [],
   "source": [
    "# State management\n",
    "\n",
    "@tracer.trace_tool(name=\"get_state\")\n",
    "def get_state(state):\n",
    "    messages = state[\"messages\"]\n",
    "    if isinstance(messages[-1], AIMessage) and messages[-1].tool_calls:\n",
    "        return \"add_tool_message\"\n",
    "    elif isinstance(messages[-1], AIMessage):\n",
    "        if \"study plan\" in messages[-1].content.lower():\n",
    "            return \"concept_explanation\"\n",
    "        elif \"concept\" in messages[-1].content.lower():\n",
    "            return \"practical_exercise\"\n",
    "        elif \"exercise\" in messages[-1].content.lower():\n",
    "            return \"recommend_resources\"\n",
    "        else:\n",
    "            return END\n",
    "    elif not isinstance(messages[-1], HumanMessage):\n",
    "        return END\n",
    "    return \"study_planning\"\n",
    "\n",
    "@tracer.trace_agent(name=\"State\")\n",
    "class State(TypedDict):\n",
    "    messages: Annotated[list, add_messages]\n",
    "\n",
    "# Initialize workflow\n",
    "memory = MemorySaver()\n",
    "workflow = StateGraph(State)\n",
    "\n",
    "# Initialize agents\n",
    "study_planner = StudyPlannerAgent()\n",
    "concept_explainer = ConceptExplainerAgent()\n",
    "exercise_generator = PracticalExerciseGenerator()\n",
    "resource_recommender = ResourceRecommenderAgent()\n",
    "\n",
    "# Add nodes to workflow\n",
    "workflow.add_node(\"study_planning\", study_planner.study_plan_chain)\n",
    "workflow.add_node(\"concept_explanation\", concept_explainer.concept_explanation_chain)\n",
    "workflow.add_node(\"practical_exercise\", exercise_generator.generate_exercise_chain)\n",
    "workflow.add_node(\"recommend_resources\", resource_recommender.recommend_resources_chain)\n",
    "\n",
    "@workflow.add_node\n",
    "def add_tool_message(state: State):\n",
    "    return {\n",
    "        \"messages\": [\n",
    "            ToolMessage(\n",
    "                content=\"Study plan generated!\",\n",
    "                tool_call_id=state[\"messages\"][-1].tool_calls[0][\"id\"],\n",
    "            )\n",
    "        ]\n",
    "    }\n",
    "\n",
    "# Add edges to workflow\n",
    "workflow.add_conditional_edges(\n",
    "    \"study_planning\",\n",
    "    get_state,\n",
    "    [\"add_tool_message\", \"concept_explanation\", \"practical_exercise\", \"recommend_resources\", END]\n",
    ")\n",
    "workflow.add_edge(\"add_tool_message\", \"concept_explanation\")\n",
    "workflow.add_edge(\"concept_explanation\", \"practical_exercise\")\n",
    "workflow.add_edge(\"practical_exercise\", \"recommend_resources\")\n",
    "workflow.add_edge(\"recommend_resources\", END)\n",
    "workflow.add_edge(START, \"study_planning\")\n",
    "\n",
    "# Compile graph\n",
    "graph = workflow.compile(checkpointer=memory)"
   ]
  },
  {
   "cell_type": "markdown",
   "metadata": {},
   "source": [
    "# Displaying a PNG image of a graph generated from a LangGraph instance using Mermaid visualization"
   ]
  },
  {
   "cell_type": "code",
   "execution_count": null,
   "metadata": {},
   "outputs": [],
   "source": [
    "# %% \n",
    "from IPython.display import Image, display\n",
    "\n",
    "display(Image(graph.get_graph().draw_mermaid_png()))"
   ]
  },
  {
   "cell_type": "code",
   "execution_count": null,
   "metadata": {},
   "outputs": [],
   "source": [
    "# Main interaction loop\n",
    "def run_interaction():\n",
    "    config = {\"configurable\": {\"thread_id\": str(uuid.uuid4())}}\n",
    "\n",
    "    print(\"Welcome to the Simplified Data Science Study Assistant!\")\n",
    "    print(\"You can ask for a study plan, concept explanations, practical exercises, or resource recommendations.\")\n",
    "    print(\"Type 'q' or 'quit' to exit.\")\n",
    "\n",
    "    while True:\n",
    "        user = input(\"\\nWhat would you like help with? \")\n",
    "        \n",
    "        if user.lower() in {\"q\", \"quit\"}:\n",
    "            print(\"Thank you for using the Data Science Study Assistant! Good luck with your studies!\")\n",
    "            break\n",
    "            \n",
    "        output = None\n",
    "        for output in graph.stream(\n",
    "            {\"messages\": [HumanMessage(content=user)]}, \n",
    "            config=config, \n",
    "            stream_mode=\"updates\"\n",
    "        ):\n",
    "            last_message = next(iter(output.values()))[\"messages\"][-1]\n",
    "            last_message.pretty_print()\n",
    "\n",
    "        if output and \"recommend_resources\" in output:\n",
    "            print(\"\\nStudy plan, concept explanation, practical exercise, and resource recommendations completed!\")\n",
    "            print(\"Is there anything else you'd like to know?\")\n",
    "\n"
   ]
  },
  {
   "cell_type": "markdown",
   "metadata": {},
   "source": [
    "# Metrics Evaluation System"
   ]
  },
  {
   "cell_type": "code",
   "execution_count": null,
   "metadata": {},
   "outputs": [],
   "source": [
    "\n",
    "# Metrics Evaluation System\n",
    "def execute_metrics(neo_session, trace_id):\n",
    "    \"\"\"Execute and return metrics analysis.\"\"\"\n",
    "    exe = Execution(session=neo_session, trace_id=trace_id)\n",
    "    exe.execute(metric_list=[\n",
    "        'goal_decomposition_efficiency',\n",
    "        'goal_fulfillment_rate',\n",
    "        'tool_call_success_rate_metric'\n",
    "    ])\n",
    "    return exe.get_results()\n",
    "\n",
    "def print_metrics_results(metric_results):\n",
    "    \"\"\"Print the metrics results in a formatted way.\"\"\"\n",
    "    print(\"\\nMetrics Results:\")\n",
    "    print(metric_results)\n",
    "\n",
    "def launch_metrics_dashboard(neo_session):\n",
    "    \"\"\"Launch the Curestry metrics dashboard.\"\"\"\n",
    "    neo_session.launch_dashboard()"
   ]
  },
  {
   "cell_type": "code",
   "execution_count": null,
   "metadata": {},
   "outputs": [],
   "source": [
    "if __name__ == \"__main__\":\n",
    "    try:\n",
    "        run_interaction()\n",
    "    finally:\n",
    "        tracer.stop()\n",
    "        print(f\"Trace ID: {tracer.trace_id}\")\n",
    "        \n"
   ]
  },
  {
   "cell_type": "code",
   "execution_count": null,
   "metadata": {},
   "outputs": [],
   "source": [
    "results = execute_metrics(neo_session, tracer.trace_id)\n"
   ]
  },
  {
   "cell_type": "code",
   "execution_count": null,
   "metadata": {},
   "outputs": [],
   "source": [
    "# Display results\n",
    "print_metrics_results(results)\n",
    "        \n"
   ]
  },
  {
   "cell_type": "code",
   "execution_count": null,
   "metadata": {},
   "outputs": [],
   "source": [
    "results"
   ]
  },
  {
   "cell_type": "code",
   "execution_count": null,
   "metadata": {},
   "outputs": [],
   "source": [
    "# Launch dashboard\n",
    "launch_metrics_dashboard(neo_session)"
   ]
  }
 ],
 "metadata": {
  "kernelspec": {
   "display_name": "venv",
   "language": "python",
   "name": "python3"
  },
  "language_info": {
   "codemirror_mode": {
    "name": "ipython",
    "version": 3
   },
   "file_extension": ".py",
   "mimetype": "text/x-python",
   "name": "python",
   "nbconvert_exporter": "python",
   "pygments_lexer": "ipython3",
   "version": "3.12.6"
  }
 },
 "nbformat": 4,
 "nbformat_minor": 2
}
